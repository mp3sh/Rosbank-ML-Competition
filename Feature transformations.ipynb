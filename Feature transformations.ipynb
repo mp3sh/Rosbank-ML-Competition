{
 "cells": [
  {
   "cell_type": "code",
   "execution_count": 1,
   "metadata": {},
   "outputs": [],
   "source": [
    "import pandas as pd"
   ]
  },
  {
   "cell_type": "code",
   "execution_count": null,
   "metadata": {},
   "outputs": [],
   "source": [
    "features = pd.read_csv('features.csv', index_col = 'Unnamed: 0')"
   ]
  },
  {
   "cell_type": "code",
   "execution_count": null,
   "metadata": {},
   "outputs": [],
   "source": []
  },
  {
   "cell_type": "code",
   "execution_count": null,
   "metadata": {},
   "outputs": [],
   "source": [
    "from sklearn import preprocessing\n",
    "le = preprocessing.LabelEncoder()\n",
    "\n",
    "for i in ['channel_type','trx_category','Alphabetic Code','cat_mcc']:\n",
    "    le.fit(features_y[i].unique())\n",
    "    features_y[i] = le.transform(features_y[i])"
   ]
  },
  {
   "cell_type": "code",
   "execution_count": null,
   "metadata": {},
   "outputs": [],
   "source": []
  },
  {
   "cell_type": "code",
   "execution_count": null,
   "metadata": {},
   "outputs": [],
   "source": [
    "features['timestamp'] = pd.Series(features.datetime.values.astype(np.int64) // 10 ** 9)"
   ]
  },
  {
   "cell_type": "code",
   "execution_count": null,
   "metadata": {},
   "outputs": [],
   "source": []
  },
  {
   "cell_type": "code",
   "execution_count": null,
   "metadata": {},
   "outputs": [],
   "source": [
    "from bs4 import BeautifulSoup\n",
    "import urllib2"
   ]
  },
  {
   "cell_type": "code",
   "execution_count": null,
   "metadata": {},
   "outputs": [],
   "source": [
    "hdr={'User-Agent':'Mozilla/5.0 (Windows; U; Windows NT 5.1; en-US; rv:1.9.0.7) Gecko/2009021910 Firefox/3.0.7',} \n",
    "req = urllib2.Request('http://mcc-codes.ru/code', headers=hdr)\n",
    "response = urllib2.urlopen(req)\n",
    "the_page = response.read()"
   ]
  },
  {
   "cell_type": "code",
   "execution_count": null,
   "metadata": {},
   "outputs": [],
   "source": [
    "p = []\n",
    "d = []\n",
    "tb=[]\n",
    "for tables in soup.find('table', class_ = 'table table-hover table-bordered table-sm'):\n",
    "    tb.append(tables)\n",
    "for tb1 in tb[3].find_all('tr'):\n",
    "    d.append(int(tb1.getText().split(' ')[0].split()[0]))\n",
    "    p.append(str(tb1.getText().split('\\n')[3].encode('utf-8')))"
   ]
  },
  {
   "cell_type": "code",
   "execution_count": null,
   "metadata": {},
   "outputs": [],
   "source": [
    "mccframe = pd.concat([pd.DataFrame(p,columns=['cat_mcc']),\n",
    "                      pd.DataFrame(d,columns=['MCC']).astype('int64')], \n",
    "                     axis=1)"
   ]
  },
  {
   "cell_type": "code",
   "execution_count": null,
   "metadata": {},
   "outputs": [],
   "source": []
  },
  {
   "cell_type": "code",
   "execution_count": null,
   "metadata": {},
   "outputs": [],
   "source": [
    "mcc_groups = features_test.cat_mcc.unique()\n",
    "\n",
    "def build_features(data):\n",
    "    aggregated = data.groupby('cl_id')[[ \n",
    "        'channel_type',\n",
    "    ]].first()\n",
    "    ids = aggregated.index\n",
    "    aggregated['cl_id'] = ids\n",
    "    aggregated['sum_POS'] = data[data.trx_category == 6].groupby('cl_id')['convert-amount-float'].sum()\n",
    "    for mcc_g in mcc_groups:\n",
    "        aggregated['sum_%s' % mcc_g] = data[\n",
    "            (data.cat_mcc == mcc_g)\n",
    "        ].groupby('cl_id')['convert-amount-float'].sum()\n",
    "    \n",
    "    return aggregated.fillna(0)\n",
    "\n",
    "train_agg = build_features(features_test)\n",
    "\n",
    "feat = train_agg.columns\n",
    "print(feat)"
   ]
  },
  {
   "cell_type": "code",
   "execution_count": null,
   "metadata": {},
   "outputs": [],
   "source": [
    "train_agg = train_agg.reset_index(drop=True).drop('channel_type',axis=1)\n",
    "features_test = pd.merge(features_test, train_agg, on='cl_id', how='left')"
   ]
  },
  {
   "cell_type": "code",
   "execution_count": null,
   "metadata": {},
   "outputs": [],
   "source": []
  },
  {
   "cell_type": "code",
   "execution_count": null,
   "metadata": {},
   "outputs": [],
   "source": [
    "features_exp = features[features['trx_category']==6].groupby('cl_id').apply(lambda x: x.sort_values('timestamp')).reset_index(drop=True)"
   ]
  },
  {
   "cell_type": "code",
   "execution_count": null,
   "metadata": {},
   "outputs": [],
   "source": [
    "def time_func(x):\n",
    "    list1 = x.timestamp.values[:-1]\n",
    "    list2 = x.timestamp.values[1:]\n",
    "    \n",
    "    features_exp.loc[x.index.values[0], 'expectation'] = 0\n",
    "    list3 = np.array(map(lambda a,b: a-b, list2, list1))\n",
    "    \n",
    "    features_exp.loc[x.index.values[1:], 'expectation'] = list3"
   ]
  },
  {
   "cell_type": "code",
   "execution_count": null,
   "metadata": {},
   "outputs": [],
   "source": []
  },
  {
   "cell_type": "code",
   "execution_count": null,
   "metadata": {},
   "outputs": [],
   "source": [
    "features['month'] = features['PERIOD'].str[3:5]\n",
    "features['year'] = features['PERIOD'].str[6:10]\n",
    "features['day'] = features['TRDATETIME'].str[0:2]\n",
    "features['time'] = features['TRDATETIME'].str[8:10]"
   ]
  },
  {
   "cell_type": "code",
   "execution_count": null,
   "metadata": {},
   "outputs": [],
   "source": []
  },
  {
   "cell_type": "code",
   "execution_count": null,
   "metadata": {},
   "outputs": [],
   "source": [
    "all_days = features[['day','month','year']].drop_duplicates()"
   ]
  },
  {
   "cell_type": "code",
   "execution_count": null,
   "metadata": {},
   "outputs": [],
   "source": []
  },
  {
   "cell_type": "code",
   "execution_count": null,
   "metadata": {},
   "outputs": [],
   "source": [
    "import requests\n",
    "import json"
   ]
  },
  {
   "cell_type": "code",
   "execution_count": null,
   "metadata": {},
   "outputs": [],
   "source": [
    "frame = pd.DataFrame()\n",
    "for i in all_days.index.values:\n",
    "    req = requests.get('http://data.fixer.io/api/'+all_days['year'].loc[i]+\n",
    "                       '-'+all_days['month'].loc[i]+\n",
    "                       '-'+all_days['day'].loc[i]+\n",
    "                       '?access_key=7429e635072542aa60509447acae8dfb'+\n",
    "                       '&base=EUR'+\n",
    "                       '&symbols=RUR,EUR,VND,USD,TRY,GEL,AMD,GBP,DOP,THB,CZK,'+\n",
    "                       'SGD,IDR,CHF,BYR,BGN,AUD,HRK,AED,UAH,PLN,CAD,KZT,ILS,'+\n",
    "                       'AZN,MAD,ISK,KGS,CNY,SEK,JPY,MXN,QAR,CRC,RUB,HUF,INR,MYR,'+\n",
    "                       'BRL,MDL,NOK,DKK,HKD,ARS,KRW,TND,MUR,PEN,RSD,LKR,RON,ZAR,'+\n",
    "                       'SCR,BSD,COP,TWD,PHP,NZD,MVR').json()\n",
    "    \n",
    "    if frame.size < 1:\n",
    "        frame = pd.DataFrame(req['rates'], index=[i])\n",
    "    else:\n",
    "        frame = frame.append(pd.DataFrame(req['rates'], index=[i]))"
   ]
  },
  {
   "cell_type": "code",
   "execution_count": null,
   "metadata": {},
   "outputs": [],
   "source": [
    "features['convert-amount'] = 0.0"
   ]
  },
  {
   "cell_type": "code",
   "execution_count": null,
   "metadata": {},
   "outputs": [],
   "source": [
    "for i in all_days.index.values:\n",
    "    for k in features[(features['day']==all_days.loc[i]['day'])&\n",
    "                      (features['month']==all_days.loc[i]['month'])&\n",
    "                      (features['year']==all_days.loc[i]['year'])].index.values:\n",
    "        \n",
    "        try:\n",
    "            features.set_value(k, 'convert-amount', frame.loc[i][features.loc[k]['Alphabetic Code']])\n",
    "        except KeyError:\n",
    "            features.set_value(k, 'convert-amount', 0)\n",
    "        except ValueError:\n",
    "            features.set_value(k, 'convert-amount', 0)"
   ]
  },
  {
   "cell_type": "code",
   "execution_count": null,
   "metadata": {},
   "outputs": [],
   "source": []
  }
 ],
 "metadata": {
  "kernelspec": {
   "display_name": "Python 3",
   "language": "python",
   "name": "python3"
  },
  "language_info": {
   "codemirror_mode": {
    "name": "ipython",
    "version": 3
   },
   "file_extension": ".py",
   "mimetype": "text/x-python",
   "name": "python",
   "nbconvert_exporter": "python",
   "pygments_lexer": "ipython3",
   "version": "3.6.4"
  }
 },
 "nbformat": 4,
 "nbformat_minor": 2
}
