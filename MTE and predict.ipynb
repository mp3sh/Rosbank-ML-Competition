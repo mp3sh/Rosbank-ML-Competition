{
 "cells": [
  {
   "cell_type": "code",
   "execution_count": 1,
   "metadata": {},
   "outputs": [],
   "source": [
    "import pandas as pd"
   ]
  },
  {
   "cell_type": "code",
   "execution_count": 2,
   "metadata": {},
   "outputs": [],
   "source": [
    "features = pd.read_csv('features.csv', index_col = 'Unnamed: 0')"
   ]
  },
  {
   "cell_type": "code",
   "execution_count": 3,
   "metadata": {},
   "outputs": [],
   "source": [
    "features_test = pd.read_csv('test-1.csv', index_col = 'Unnamed: 0')"
   ]
  },
  {
   "cell_type": "code",
   "execution_count": null,
   "metadata": {},
   "outputs": [],
   "source": []
  },
  {
   "cell_type": "code",
   "execution_count": 4,
   "metadata": {},
   "outputs": [],
   "source": [
    "import xgboost as xgb"
   ]
  },
  {
   "cell_type": "code",
   "execution_count": null,
   "metadata": {},
   "outputs": [],
   "source": [
    "from sklearn.cross_validation import KFold"
   ]
  },
  {
   "cell_type": "code",
   "execution_count": null,
   "metadata": {},
   "outputs": [],
   "source": [
    "from sklearn.grid_search import GridSearchCV"
   ]
  },
  {
   "cell_type": "code",
   "execution_count": null,
   "metadata": {},
   "outputs": [],
   "source": []
  },
  {
   "cell_type": "code",
   "execution_count": 20,
   "metadata": {},
   "outputs": [],
   "source": [
    "my_col_mte = ['MCC','channel_type','trx_category','month','year','day','time','Alphabetic Code','convert-amount',\n",
    "              'cl_activ','convert-amount-int','trx_category_new','cat_mcc','target_flag']"
   ]
  },
  {
   "cell_type": "code",
   "execution_count": 21,
   "metadata": {},
   "outputs": [],
   "source": [
    "mean_columns = ['MCC','channel_type','trx_category','month','year','day','time','Alphabetic Code',\n",
    "                'convert-amount','cl_activ','convert-amount-int','trx_category_new','cat_mcc','Labels']"
   ]
  },
  {
   "cell_type": "code",
   "execution_count": 22,
   "metadata": {},
   "outputs": [],
   "source": [
    "features_mte = features[my_col_mte]"
   ]
  },
  {
   "cell_type": "code",
   "execution_count": null,
   "metadata": {},
   "outputs": [],
   "source": []
  },
  {
   "cell_type": "code",
   "execution_count": 23,
   "metadata": {},
   "outputs": [],
   "source": [
    "from sklearn.cluster import KMeans"
   ]
  },
  {
   "cell_type": "code",
   "execution_count": null,
   "metadata": {},
   "outputs": [],
   "source": [
    "features_mte['Labels'] = np.NaN"
   ]
  },
  {
   "cell_type": "code",
   "execution_count": null,
   "metadata": {},
   "outputs": [],
   "source": [
    "score = []\n",
    "for i in range(0, 5, 1):\n",
    "\n",
    "    test = range(i, 4975, 5)\n",
    "    \n",
    "    b = X.loc[X['cl_id'].isin(X['cl_id'].unique()[test])]   \n",
    "    a = X.drop(b.index.values)\n",
    "    \n",
    "    Clust = KMeans(n_clusters = 8)\n",
    "    Clust.fit(a[['expectation']])\n",
    "    \n",
    "    y_pred = Clust.predict(b[['expectation']])\n",
    "    \n",
    "    features_mte.loc[b.index.values, 'Labels'] = y_pred"
   ]
  },
  {
   "cell_type": "code",
   "execution_count": 67,
   "metadata": {},
   "outputs": [
    {
     "data": {
      "text/html": [
       "<div>\n",
       "<style scoped>\n",
       "    .dataframe tbody tr th:only-of-type {\n",
       "        vertical-align: middle;\n",
       "    }\n",
       "\n",
       "    .dataframe tbody tr th {\n",
       "        vertical-align: top;\n",
       "    }\n",
       "\n",
       "    .dataframe thead th {\n",
       "        text-align: right;\n",
       "    }\n",
       "</style>\n",
       "<table border=\"1\" class=\"dataframe\">\n",
       "  <thead>\n",
       "    <tr style=\"text-align: right;\">\n",
       "      <th></th>\n",
       "      <th>MCC</th>\n",
       "      <th>channel_type</th>\n",
       "      <th>trx_category</th>\n",
       "      <th>month</th>\n",
       "      <th>year</th>\n",
       "      <th>day</th>\n",
       "      <th>time</th>\n",
       "      <th>Alphabetic Code</th>\n",
       "      <th>convert-amount</th>\n",
       "      <th>cl_activ</th>\n",
       "      <th>convert-amount-int</th>\n",
       "      <th>trx_category_new</th>\n",
       "      <th>cat_mcc</th>\n",
       "      <th>Labels</th>\n",
       "    </tr>\n",
       "  </thead>\n",
       "  <tbody>\n",
       "    <tr>\n",
       "      <th>0</th>\n",
       "      <td>4829</td>\n",
       "      <td>5</td>\n",
       "      <td>1</td>\n",
       "      <td>7</td>\n",
       "      <td>2017</td>\n",
       "      <td>14</td>\n",
       "      <td>6</td>\n",
       "      <td>53</td>\n",
       "      <td>67.824166</td>\n",
       "      <td>9</td>\n",
       "      <td>589</td>\n",
       "      <td>1</td>\n",
       "      <td>12</td>\n",
       "      <td>6.0</td>\n",
       "    </tr>\n",
       "    <tr>\n",
       "      <th>1</th>\n",
       "      <td>5411</td>\n",
       "      <td>5</td>\n",
       "      <td>6</td>\n",
       "      <td>9</td>\n",
       "      <td>2017</td>\n",
       "      <td>15</td>\n",
       "      <td>0</td>\n",
       "      <td>53</td>\n",
       "      <td>68.848986</td>\n",
       "      <td>34</td>\n",
       "      <td>-34</td>\n",
       "      <td>-1</td>\n",
       "      <td>18</td>\n",
       "      <td>6.0</td>\n",
       "    </tr>\n",
       "    <tr>\n",
       "      <th>2</th>\n",
       "      <td>5812</td>\n",
       "      <td>5</td>\n",
       "      <td>6</td>\n",
       "      <td>9</td>\n",
       "      <td>2017</td>\n",
       "      <td>24</td>\n",
       "      <td>0</td>\n",
       "      <td>53</td>\n",
       "      <td>68.720151</td>\n",
       "      <td>40</td>\n",
       "      <td>-86</td>\n",
       "      <td>-1</td>\n",
       "      <td>16</td>\n",
       "      <td>6.0</td>\n",
       "    </tr>\n",
       "    <tr>\n",
       "      <th>3</th>\n",
       "      <td>5661</td>\n",
       "      <td>5</td>\n",
       "      <td>6</td>\n",
       "      <td>7</td>\n",
       "      <td>2017</td>\n",
       "      <td>8</td>\n",
       "      <td>0</td>\n",
       "      <td>53</td>\n",
       "      <td>68.827410</td>\n",
       "      <td>6</td>\n",
       "      <td>-81</td>\n",
       "      <td>-1</td>\n",
       "      <td>9</td>\n",
       "      <td>6.0</td>\n",
       "    </tr>\n",
       "    <tr>\n",
       "      <th>4</th>\n",
       "      <td>5732</td>\n",
       "      <td>5</td>\n",
       "      <td>6</td>\n",
       "      <td>7</td>\n",
       "      <td>2017</td>\n",
       "      <td>8</td>\n",
       "      <td>0</td>\n",
       "      <td>53</td>\n",
       "      <td>68.827410</td>\n",
       "      <td>2</td>\n",
       "      <td>-430</td>\n",
       "      <td>-1</td>\n",
       "      <td>16</td>\n",
       "      <td>6.0</td>\n",
       "    </tr>\n",
       "  </tbody>\n",
       "</table>\n",
       "</div>"
      ],
      "text/plain": [
       "    MCC  channel_type  trx_category  month  year  day  time  Alphabetic Code  \\\n",
       "0  4829             5             1      7  2017   14     6               53   \n",
       "1  5411             5             6      9  2017   15     0               53   \n",
       "2  5812             5             6      9  2017   24     0               53   \n",
       "3  5661             5             6      7  2017    8     0               53   \n",
       "4  5732             5             6      7  2017    8     0               53   \n",
       "\n",
       "   convert-amount  cl_activ  convert-amount-int  trx_category_new  cat_mcc  \\\n",
       "0       67.824166         9                 589                 1       12   \n",
       "1       68.848986        34                 -34                -1       18   \n",
       "2       68.720151        40                 -86                -1       16   \n",
       "3       68.827410         6                 -81                -1        9   \n",
       "4       68.827410         2                -430                -1       16   \n",
       "\n",
       "   Labels  \n",
       "0     6.0  \n",
       "1     6.0  \n",
       "2     6.0  \n",
       "3     6.0  \n",
       "4     6.0  "
      ]
     },
     "execution_count": 67,
     "metadata": {},
     "output_type": "execute_result"
    }
   ],
   "source": [
    "features_mte[mean_columns].head()"
   ]
  },
  {
   "cell_type": "markdown",
   "metadata": {},
   "source": [
    "#### mte"
   ]
  },
  {
   "cell_type": "code",
   "execution_count": 20,
   "metadata": {},
   "outputs": [],
   "source": [
    "from sklearn import metrics"
   ]
  },
  {
   "cell_type": "code",
   "execution_count": 70,
   "metadata": {},
   "outputs": [],
   "source": [
    "def mte(data, column, target, alpha, train, test, stage):\n",
    "    \n",
    "    func_mean_encoding = lambda x: (np.mean(x) * len(x) + data[target].mean() * alpha) / (len(x) + alpha)\n",
    "    \n",
    "    train_mte = data.iloc[train][[target]].groupby(data.iloc[train][column]).apply(func_mean_encoding).reset_index().rename(index=str, columns={target: 'mean'})\n",
    "    \n",
    "    index = data.iloc[test].index.values\n",
    "    \n",
    "    values = pd.merge(data.iloc[test], train_mte, on=column, how='left')['mean'].values\n",
    "    \n",
    "    data.loc[index ,column+'-mean-'+stage] = values"
   ]
  },
  {
   "cell_type": "code",
   "execution_count": null,
   "metadata": {},
   "outputs": [],
   "source": []
  },
  {
   "cell_type": "code",
   "execution_count": null,
   "metadata": {},
   "outputs": [],
   "source": [
    "X['mean-predict'] = np.NaN"
   ]
  },
  {
   "cell_type": "code",
   "execution_count": null,
   "metadata": {
    "scrolled": false
   },
   "outputs": [],
   "source": [
    "score = []\n",
    "cv_external = KFold(n=len(features_mte), n_folds=10, shuffle=True)\n",
    "l=[]\n",
    "acc_col_mean = []\n",
    "\n",
    "for train_i, test_i in cv_external:\n",
    "    l.append(len(train_i))\n",
    "    fold_name = str(len(l))\n",
    "    \n",
    "    for mean_col in mean_columns:\n",
    "        \n",
    "        features_mte[mean_col+'-mean-'+fold_name] = np.NaN\n",
    "    \n",
    "        mte(features_mte, mean_col, 'target_flag', 30, train_i, test_i, fold_name)\n",
    "        \n",
    "        acc_col_mean.append(mean_col+'-mean-'+fold_name)\n",
    "    \n",
    "        cv_interior = KFold(n=len(train_i), n_folds=20, shuffle=True)\n",
    "        for train_k, test_k in cv_interior:\n",
    "        \n",
    "            mte(features_mte, mean_col, 'target_flag', 30, train_k, test_k, fold_name)\n",
    "        \n",
    "        features_mte[mean_col+'-mean-'+fold_name] = features_mte[mean_col+'-mean-'+fold_name].fillna(features_mte['target_flag'].mean())   \n",
    "        \n",
    "features_mte = pd.concat([features_mte[acc_col_mean], X[['cl_id','target_flag']]], axis=1)\n",
    "\n",
    "for mean_col in mean_columns:\n",
    "    \n",
    "    collist = [mean_col+'-mean-'+str(i) for i in range(1,len(l)+1)]\n",
    "    \n",
    "    mean_data = pd.DataFrame(features_mte.groupby('cl_id').apply(lambda x: x[collist].mean().mean())).reset_index().rename(index=str, columns={0: mean_col+'-mean-'})\n",
    "    \n",
    "    features_mte = pd.merge(features_mte, mean_data, on='cl_id', how='left')\n",
    "    features_mte = features_mte.drop(collist, axis=1)\n",
    "    \n",
    "score = []\n",
    "for i in range(0, 5, 1):\n",
    "\n",
    "    test = range(i, 4975, 5)\n",
    "    \n",
    "    b = features_mte.loc[features_mte['cl_id'].isin(features_mte['cl_id'].unique()[test])]   \n",
    "    a = features_mte.drop(b.index.values)\n",
    "    \n",
    "    clf = xgb.XGBClassifier(n_jobs=8)\n",
    "    clf.fit(a.drop(['target_flag','cl_id'],axis=1), a['target_flag'])\n",
    "    \n",
    "    y_scores = clf.predict_proba(b.drop(['target_flag','cl_id'],axis=1))[:, 1]\n",
    "    y_true = b['target_flag'].values \n",
    " \n",
    "    predict = features_mte.iloc[b.index.values]\n",
    "    predict['y_scores'] = y_scores\n",
    "    predict['y_true'] = y_true\n",
    "    scores = predict.groupby('cl_id').apply(lambda x: np.mean(x))['y_scores']\n",
    "    true = predict.groupby('cl_id').first()['target_flag']   \n",
    "    \n",
    "    fpr, tpr, thresholds = metrics.roc_curve(true, scores, pos_label=1)\n",
    "    \n",
    "    print(metrics.auc(fpr, tpr), len(a), len(b))\n",
    "    score.append(metrics.auc(fpr, tpr))\n",
    "    \n",
    "    X.loc[features_mte.iloc[b.index.values].index.values, 'mean-predict'] = y_scores\n",
    "    \n",
    "print('')\n",
    "print(np.mean(score))"
   ]
  },
  {
   "cell_type": "code",
   "execution_count": 32,
   "metadata": {},
   "outputs": [
    {
     "data": {
      "text/plain": [
       "[0.838743842364532,\n",
       " 0.8380258661565377,\n",
       " 0.851801845833028,\n",
       " 0.8526033849394243,\n",
       " 0.8529645390070921]"
      ]
     },
     "execution_count": 32,
     "metadata": {},
     "output_type": "execute_result"
    }
   ],
   "source": [
    "score "
   ]
  },
  {
   "cell_type": "code",
   "execution_count": 33,
   "metadata": {},
   "outputs": [
    {
     "data": {
      "text/plain": [
       "0.8468278956601228"
      ]
     },
     "execution_count": 33,
     "metadata": {},
     "output_type": "execute_result"
    }
   ],
   "source": [
    "np.mean(score)"
   ]
  },
  {
   "cell_type": "markdown",
   "metadata": {},
   "source": [
    "#### predict"
   ]
  },
  {
   "cell_type": "code",
   "execution_count": 31,
   "metadata": {
    "scrolled": false
   },
   "outputs": [
    {
     "name": "stdout",
     "output_type": "stream",
     "text": [
      "(0.8199096880131362, 389265, 98338)\n",
      "(0.8101138797599777, 388335, 99268)\n",
      "(0.8173289183222957, 390361, 97242)\n",
      "(0.8336802301957825, 391622, 95981)\n",
      "(0.8272340425531914, 390829, 96774)\n",
      "(0.8219316102235108, 389312, 98291)\n",
      "(0.8073254865973216, 388354, 99249)\n",
      "(0.8154512131404501, 390528, 97075)\n",
      "(0.8332107277782628, 391742, 95861)\n",
      "(0.8300775540035732, 390869, 96734)\n",
      "(0.821319985168706, 389506, 98097)\n",
      "(0.809217711934697, 388379, 99224)\n",
      "(0.8174451605515843, 390729, 96874)\n",
      "(0.8324369250766563, 391745, 95858)\n",
      "(0.8297233841696643, 390870, 96733)\n",
      "(0.8210259650165999, 389546, 98057)\n",
      "(0.8094055944055945, 388467, 99136)\n",
      "(0.8145464601769912, 390784, 96819)\n",
      "(0.8335044404380343, 391887, 95716)\n",
      "(0.8303993769165525, 390885, 96718)\n",
      "(0.8213644524236984, 389595, 98008)\n",
      "\n",
      "0.8217453717555372\n"
     ]
    }
   ],
   "source": [
    "score = []\n",
    "for i in range(0, 21, 1):\n",
    "\n",
    "    test = range(i, 4975, 5)\n",
    "    \n",
    "    b = X.loc[X['cl_id'].isin(X['cl_id'].unique()[test])]   \n",
    "    a = X.drop(b.index.values)\n",
    "    \n",
    "    clf = xgb.XGBClassifier(n_jobs=8)\n",
    "    clf.fit(a.drop(['target_flag'],axis=1), a['target_flag'])\n",
    "    \n",
    "    y_scores = clf.predict_proba(b.drop(['target_flag'],axis=1))[:, 1]\n",
    "    y_true = b['target_flag'].values \n",
    "    _\n",
    "    \n",
    "    predict = X[['cl_id','target_flag']].iloc[b.index.values]\n",
    "    predict['y_scores'] = y_scores\n",
    "    predict['y_true'] = y_true\n",
    "    scores = predict.groupby('cl_id').apply(lambda x: np.mean(x))['y_scores']\n",
    "    true = predict.groupby('cl_id').first()['target_flag']\n",
    "    _    \n",
    "    \n",
    "    fpr, tpr, thresholds = metrics.roc_curve(true, scores, pos_label=1)\n",
    "    \n",
    "    print(metrics.auc(fpr, tpr), len(a), len(b))\n",
    "    score.append(metrics.auc(fpr, tpr))\n",
    "    \n",
    "print('')\n",
    "print(np.mean(score))"
   ]
  },
  {
   "cell_type": "code",
   "execution_count": null,
   "metadata": {},
   "outputs": [],
   "source": []
  },
  {
   "cell_type": "code",
   "execution_count": 74,
   "metadata": {},
   "outputs": [],
   "source": [
    "from xgboost import plot_importance"
   ]
  },
  {
   "cell_type": "code",
   "execution_count": 75,
   "metadata": {},
   "outputs": [],
   "source": [
    "from matplotlib import pyplot"
   ]
  },
  {
   "cell_type": "code",
   "execution_count": 77,
   "metadata": {},
   "outputs": [
    {
     "data": {
      "text/plain": [
       "<matplotlib.axes._subplots.AxesSubplot at 0x7fb6e4033cd0>"
      ]
     },
     "execution_count": 77,
     "metadata": {},
     "output_type": "execute_result"
    },
    {
     "data": {
      "image/png": "[encoded data removed]",
      "text/plain": [
       "<matplotlib.figure.Figure at 0x7fb6c52f0810>"
      ]
     },
     "metadata": {},
     "output_type": "display_data"
    }
   ],
   "source": [
    "plot_importance(clf)"
   ]
  },
  {
   "cell_type": "code",
   "execution_count": 76,
   "metadata": {},
   "outputs": [
    {
     "data": {
      "text/plain": [
       "<matplotlib.axes._subplots.AxesSubplot at 0x7fc9c764f590>"
      ]
     },
     "execution_count": 76,
     "metadata": {},
     "output_type": "execute_result"
    },
    {
     "data": {
      "image/png": "[encoded data removed]",
      "text/plain": [
       "<matplotlib.figure.Figure at 0x7fc9c7652810>"
      ]
     },
     "metadata": {},
     "output_type": "display_data"
    }
   ],
   "source": [
    "plot_importance(clf)"
   ]
  },
  {
   "cell_type": "code",
   "execution_count": null,
   "metadata": {},
   "outputs": [],
   "source": []
  }
 ],
 "metadata": {
  "kernelspec": {
   "display_name": "Python 3",
   "language": "python",
   "name": "python3"
  },
  "language_info": {
   "codemirror_mode": {
    "name": "ipython",
    "version": 3
   },
   "file_extension": ".py",
   "mimetype": "text/x-python",
   "name": "python",
   "nbconvert_exporter": "python",
   "pygments_lexer": "ipython3",
   "version": "3.6.4"
  }
 },
 "nbformat": 4,
 "nbformat_minor": 2
}
